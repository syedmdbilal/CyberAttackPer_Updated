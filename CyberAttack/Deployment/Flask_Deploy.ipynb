{
 "cells": [
  {
   "cell_type": "code",
   "execution_count": 1,
   "id": "06489013",
   "metadata": {},
   "outputs": [
    {
     "name": "stdout",
     "output_type": "stream",
     "text": [
      " * Serving Flask app '__main__'\n",
      " * Debug mode: off\n"
     ]
    },
    {
     "name": "stderr",
     "output_type": "stream",
     "text": [
      "WARNING: This is a development server. Do not use it in a production deployment. Use a production WSGI server instead.\n",
      " * Running on http://localhost:5000\n",
      "Press CTRL+C to quit\n"
     ]
    }
   ],
   "source": [
    "import numpy as np\n",
    "from flask import Flask, request, jsonify, render_template\n",
    "import joblib\n",
    "\n",
    "app = Flask(__name__)\n",
    "model1 = joblib.load('Attack.pkl')\n",
    "model2 = joblib.load('Perpetrator.pkl')\n",
    "\n",
    "@app.route('/')\n",
    "def home():\n",
    "    return render_template('index.html')\n",
    "\n",
    "@app.route('/predict',methods=['POST'])\n",
    "def predict():\n",
    "    int_features = [(x) for x in request.form.values()]\n",
    "    final_features = int_features[0:9]\n",
    "    final_features = [np.array(final_features)]\n",
    "    predictionC = model1.predict(final_features)\n",
    "    output = str(predictionC[0])\n",
    "    \n",
    "    if output == '0':\n",
    "        a = 'Card Copying / Generating Devices'\n",
    "    elif output == '1':\n",
    "        a = 'Creating a Fake Shopping Site'\n",
    "    elif output == '2':\n",
    "        a = 'Hacking Tools or Malware'\n",
    "    elif output == '3':\n",
    "        a = 'Phishing Attack'\n",
    "    elif output == '4':\n",
    "        a = 'Receiving Public Data on Social Media'\n",
    "    elif output == '5':\n",
    "        a = 'Social Engineering'\n",
    "        \n",
    "    int_features.append(output)\n",
    "    final_featuresY = [np.array(int_features)]\n",
    "    predictionY = model2.predict(final_featuresY)\n",
    "    outputY = predictionY[0]\n",
    "    if outputY==0:\n",
    "        outputY='Known'\n",
    "    else:\n",
    "        outputY=\"UnKnown\"\n",
    "\n",
    "    return render_template('index.html', prediction_text1=f\"Attack Method is {a}\", prediction_text2=f\"Perpetrator is {outputY}\")\n",
    "\n",
    "\n",
    "if __name__ == \"__main__\":\n",
    "    app.run(host=\"localhost\", port=5000)\n"
   ]
  },
  {
   "cell_type": "code",
   "execution_count": null,
   "id": "2ebd693f",
   "metadata": {},
   "outputs": [
    {
     "name": "stdout",
     "output_type": "stream",
     "text": [
      " * Serving Flask app '__main__'\n",
      " * Debug mode: off\n"
     ]
    },
    {
     "name": "stderr",
     "output_type": "stream",
     "text": [
      "WARNING: This is a development server. Do not use it in a production deployment. Use a production WSGI server instead.\n",
      " * Running on http://localhost:5000\n",
      "Press CTRL+C to quit\n",
      "127.0.0.1 - - [18/Feb/2024 13:25:00] \"GET / HTTP/1.1\" 200 -\n",
      "127.0.0.1 - - [18/Feb/2024 13:25:00] \"GET /static/css/bootstrap.min.css HTTP/1.1\" 304 -\n",
      "127.0.0.1 - - [18/Feb/2024 13:25:00] \"GET /static/image/ca1.jpg HTTP/1.1\" 304 -\n",
      "C:\\Users\\syedm\\anaconda3\\envs\\hw\\lib\\site-packages\\sklearn\\base.py:464: UserWarning: X does not have valid feature names, but RandomForestClassifier was fitted with feature names\n",
      "  warnings.warn(\n",
      "C:\\Users\\syedm\\anaconda3\\envs\\hw\\lib\\site-packages\\sklearn\\base.py:464: UserWarning: X does not have valid feature names, but RandomForestClassifier was fitted with feature names\n",
      "  warnings.warn(\n",
      "127.0.0.1 - - [18/Feb/2024 13:25:02] \"POST /predict HTTP/1.1\" 200 -\n",
      "127.0.0.1 - - [18/Feb/2024 13:25:03] \"GET /static/css/bootstrap.min.css HTTP/1.1\" 304 -\n",
      "127.0.0.1 - - [18/Feb/2024 13:25:03] \"GET /static/image/unknown_perpetrator.jpg HTTP/1.1\" 304 -\n",
      "127.0.0.1 - - [18/Feb/2024 13:25:03] \"GET /static/image/ca1.jpg HTTP/1.1\" 304 -\n",
      "127.0.0.1 - - [18/Feb/2024 13:25:03] \"GET /static/image/sm.jpg HTTP/1.1\" 304 -\n",
      "C:\\Users\\syedm\\anaconda3\\envs\\hw\\lib\\site-packages\\sklearn\\base.py:464: UserWarning: X does not have valid feature names, but RandomForestClassifier was fitted with feature names\n",
      "  warnings.warn(\n",
      "C:\\Users\\syedm\\anaconda3\\envs\\hw\\lib\\site-packages\\sklearn\\base.py:464: UserWarning: X does not have valid feature names, but RandomForestClassifier was fitted with feature names\n",
      "  warnings.warn(\n",
      "127.0.0.1 - - [18/Feb/2024 13:25:56] \"POST /predict HTTP/1.1\" 200 -\n",
      "127.0.0.1 - - [18/Feb/2024 13:25:56] \"GET /static/image/se.jpg HTTP/1.1\" 200 -\n",
      "127.0.0.1 - - [18/Feb/2024 13:25:57] \"GET /static/css/bootstrap.min.css HTTP/1.1\" 304 -\n",
      "127.0.0.1 - - [18/Feb/2024 13:25:57] \"GET /static/image/ca1.jpg HTTP/1.1\" 304 -\n",
      "127.0.0.1 - - [18/Feb/2024 13:25:57] \"GET /static/image/perpetrator.jpg HTTP/1.1\" 200 -\n"
     ]
    }
   ],
   "source": [
    "import numpy as np\n",
    "from flask import Flask, request, jsonify, render_template\n",
    "import joblib\n",
    "\n",
    "app = Flask(__name__)\n",
    "model1 = joblib.load('Attack.pkl')\n",
    "model2 = joblib.load('Perpetrator.pkl')\n",
    "\n",
    "@app.route('/')\n",
    "def home():\n",
    "    return render_template('index.html')\n",
    "\n",
    "@app.route('/predict',methods=['POST'])\n",
    "def predict():\n",
    "    int_features = [(x) for x in request.form.values()]\n",
    "    final_features = int_features[0:9]\n",
    "    final_features = [np.array(final_features)]\n",
    "    predictionC = model1.predict(final_features)\n",
    "    output = str(predictionC[0])\n",
    "    \n",
    "    if output == '0':\n",
    "        a = 'Card Copying / Generating Devices'\n",
    "    elif output == '1':\n",
    "        a = 'Creating a Fake Shopping Site'\n",
    "    elif output == '2':\n",
    "        a = 'Hacking Tools or Malware'\n",
    "    elif output == '3':\n",
    "        a = 'Phishing Attack'\n",
    "    elif output == '4':\n",
    "        a = 'Receiving Public Data on Social Media'\n",
    "    elif output == '5':\n",
    "        a = 'Social Engineering'\n",
    "        \n",
    "    int_features.append(output)\n",
    "    final_featuresY = [np.array(int_features)]\n",
    "    predictionY = model2.predict(final_featuresY)\n",
    "    outputY = predictionY[0]\n",
    "    if outputY==0:\n",
    "        outputY='Known'\n",
    "    else:\n",
    "        outputY=\"UnKnown\"\n",
    "\n",
    "    return render_template('index.html', prediction_text1=f\"Attack Method is {a}\", prediction_text2=f\"Perpetrator is {outputY}\")\n",
    "\n",
    "\n",
    "if __name__ == \"__main__\":\n",
    "    app.run(host=\"localhost\", port=5000)\n"
   ]
  },
  {
   "cell_type": "code",
   "execution_count": null,
   "id": "89219c87",
   "metadata": {},
   "outputs": [],
   "source": []
  }
 ],
 "metadata": {
  "kernelspec": {
   "display_name": "Python 3 (ipykernel)",
   "language": "python",
   "name": "python3"
  },
  "language_info": {
   "codemirror_mode": {
    "name": "ipython",
    "version": 3
   },
   "file_extension": ".py",
   "mimetype": "text/x-python",
   "name": "python",
   "nbconvert_exporter": "python",
   "pygments_lexer": "ipython3",
   "version": "3.10.12"
  }
 },
 "nbformat": 4,
 "nbformat_minor": 5
}
